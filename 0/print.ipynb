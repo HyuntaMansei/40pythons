{
 "cells": [
  {
   "cell_type": "code",
   "execution_count": 5,
   "metadata": {},
   "outputs": [
    {
     "name": "stdout",
     "output_type": "stream",
     "text": [
      "hello\n"
     ]
    }
   ],
   "source": [
    "print('hello')"
   ]
  },
  {
   "cell_type": "code",
   "execution_count": 6,
   "metadata": {},
   "outputs": [
    {
     "name": "stdout",
     "output_type": "stream",
     "text": [
      "again\n"
     ]
    }
   ],
   "source": [
    "print(\"again\")"
   ]
  },
  {
   "cell_type": "code",
   "execution_count": 7,
   "metadata": {},
   "outputs": [
    {
     "name": "stdout",
     "output_type": "stream",
     "text": [
      "hum..\n"
     ]
    }
   ],
   "source": [
    "print(\"hum..\")"
   ]
  },
  {
   "cell_type": "code",
   "execution_count": 8,
   "metadata": {},
   "outputs": [
    {
     "name": "stdout",
     "output_type": "stream",
     "text": [
      "enter\n",
      "ho?\n"
     ]
    }
   ],
   "source": [
    "print(\"enter\")\n",
    "print(\"ho?\")"
   ]
  },
  {
   "cell_type": "code",
   "execution_count": 9,
   "metadata": {},
   "outputs": [
    {
     "data": {
      "text/plain": [
       "'입력합니다.'"
      ]
     },
     "execution_count": 9,
     "metadata": {},
     "output_type": "execute_result"
    }
   ],
   "source": [
    "input(\"Input msg.\")"
   ]
  },
  {
   "cell_type": "code",
   "execution_count": 10,
   "metadata": {},
   "outputs": [
    {
     "name": "stdout",
     "output_type": "stream",
     "text": [
      "[]\n"
     ]
    }
   ],
   "source": [
    "tlist = []\n",
    "print(tlist)"
   ]
  },
  {
   "cell_type": "code",
   "execution_count": 11,
   "metadata": {},
   "outputs": [
    {
     "name": "stdout",
     "output_type": "stream",
     "text": [
      "<class 'list'>\n"
     ]
    }
   ],
   "source": [
    "print(type(tlist))"
   ]
  },
  {
   "cell_type": "code",
   "execution_count": 20,
   "metadata": {},
   "outputs": [
    {
     "name": "stdout",
     "output_type": "stream",
     "text": [
      "[0, 1, 2, 3, 4, 5, 6, 7, 8, 9]\n"
     ]
    }
   ],
   "source": [
    "for i in range(10):\n",
    "    tlist.append(i)\n",
    "print(tlist)"
   ]
  },
  {
   "cell_type": "code",
   "execution_count": 19,
   "metadata": {},
   "outputs": [],
   "source": [
    "tlist = []"
   ]
  },
  {
   "cell_type": "code",
   "execution_count": 24,
   "metadata": {},
   "outputs": [
    {
     "name": "stdout",
     "output_type": "stream",
     "text": [
      "[3, 4, 5, 6, 7, 8, 9]\n"
     ]
    }
   ],
   "source": [
    "print(tlist[3:])"
   ]
  },
  {
   "cell_type": "code",
   "execution_count": 25,
   "metadata": {},
   "outputs": [
    {
     "name": "stdout",
     "output_type": "stream",
     "text": [
      "[8, 9]\n"
     ]
    }
   ],
   "source": [
    "print(tlist[-2:])"
   ]
  },
  {
   "cell_type": "code",
   "execution_count": 26,
   "metadata": {},
   "outputs": [
    {
     "name": "stdout",
     "output_type": "stream",
     "text": [
      "[0, 1, 2, 3, 4, 5, 6]\n"
     ]
    }
   ],
   "source": [
    "print(tlist[:-3])"
   ]
  },
  {
   "cell_type": "code",
   "execution_count": 27,
   "metadata": {},
   "outputs": [
    {
     "name": "stdout",
     "output_type": "stream",
     "text": [
      "{1: '1', 2: '2', 3: '3'}\n"
     ]
    }
   ],
   "source": [
    "a_dic = {1:'1', 2:'2', 3:'3'}\n",
    "print(a_dic)"
   ]
  },
  {
   "cell_type": "code",
   "execution_count": 28,
   "metadata": {},
   "outputs": [],
   "source": [
    "tdic = {}\n",
    "for i in range(10):\n",
    "    tdic[i] = str(i)"
   ]
  },
  {
   "cell_type": "code",
   "execution_count": 29,
   "metadata": {},
   "outputs": [
    {
     "name": "stdout",
     "output_type": "stream",
     "text": [
      "{0: '0', 1: '1', 2: '2', 3: '3', 4: '4', 5: '5', 6: '6', 7: '7', 8: '8', 9: '9'}\n"
     ]
    }
   ],
   "source": [
    "print(tdic)"
   ]
  },
  {
   "cell_type": "code",
   "execution_count": 33,
   "metadata": {},
   "outputs": [
    {
     "name": "stdout",
     "output_type": "stream",
     "text": [
      "(7, '7')\n"
     ]
    }
   ],
   "source": [
    "print(tdic.popitem())"
   ]
  },
  {
   "cell_type": "code",
   "execution_count": 37,
   "metadata": {},
   "outputs": [
    {
     "name": "stdout",
     "output_type": "stream",
     "text": [
      "{0: '0', 2: '2', 3: '3', 4: '4', 5: '5', 6: '6'}\n"
     ]
    }
   ],
   "source": [
    "print(tdic)"
   ]
  },
  {
   "cell_type": "code",
   "execution_count": 36,
   "metadata": {},
   "outputs": [
    {
     "name": "stdout",
     "output_type": "stream",
     "text": [
      "1\n"
     ]
    }
   ],
   "source": [
    "print(tdic.pop(1))"
   ]
  },
  {
   "cell_type": "code",
   "execution_count": 38,
   "metadata": {},
   "outputs": [],
   "source": [
    "stest = set(\"python\")"
   ]
  },
  {
   "cell_type": "code",
   "execution_count": 41,
   "metadata": {},
   "outputs": [
    {
     "name": "stdout",
     "output_type": "stream",
     "text": [
      "{'t', 'o', 'y', 'p', 'n'}\n"
     ]
    }
   ],
   "source": [
    "print(stest)"
   ]
  },
  {
   "cell_type": "code",
   "execution_count": 40,
   "metadata": {},
   "outputs": [
    {
     "data": {
      "text/plain": [
       "'h'"
      ]
     },
     "execution_count": 40,
     "metadata": {},
     "output_type": "execute_result"
    }
   ],
   "source": [
    "stest.pop()"
   ]
  },
  {
   "cell_type": "code",
   "execution_count": 42,
   "metadata": {},
   "outputs": [
    {
     "name": "stdout",
     "output_type": "stream",
     "text": [
      "100\n"
     ]
    }
   ],
   "source": [
    "print(10**2)"
   ]
  },
  {
   "cell_type": "code",
   "execution_count": 43,
   "metadata": {},
   "outputs": [
    {
     "name": "stdout",
     "output_type": "stream",
     "text": [
      "33\n"
     ]
    }
   ],
   "source": [
    "print(100//3)"
   ]
  },
  {
   "cell_type": "code",
   "execution_count": 44,
   "metadata": {},
   "outputs": [
    {
     "name": "stdout",
     "output_type": "stream",
     "text": [
      "2\n"
     ]
    }
   ],
   "source": [
    "print(100%7)"
   ]
  },
  {
   "cell_type": "code",
   "execution_count": 46,
   "metadata": {},
   "outputs": [
    {
     "name": "stdout",
     "output_type": "stream",
     "text": [
      "True\n"
     ]
    }
   ],
   "source": [
    "print(True)"
   ]
  },
  {
   "cell_type": "code",
   "execution_count": 47,
   "metadata": {},
   "outputs": [
    {
     "ename": "NameError",
     "evalue": "name 'TRUE' is not defined",
     "output_type": "error",
     "traceback": [
      "\u001b[1;31m---------------------------------------------------------------------------\u001b[0m",
      "\u001b[1;31mNameError\u001b[0m                                 Traceback (most recent call last)",
      "Cell \u001b[1;32mIn[47], line 1\u001b[0m\n\u001b[1;32m----> 1\u001b[0m \u001b[39mprint\u001b[39m(TRUE)\n",
      "\u001b[1;31mNameError\u001b[0m: name 'TRUE' is not defined"
     ]
    }
   ],
   "source": []
  },
  {
   "cell_type": "code",
   "execution_count": 48,
   "metadata": {},
   "outputs": [
    {
     "name": "stdout",
     "output_type": "stream",
     "text": [
      "False\n"
     ]
    }
   ],
   "source": [
    "print(False)"
   ]
  },
  {
   "cell_type": "code",
   "execution_count": 49,
   "metadata": {},
   "outputs": [
    {
     "name": "stdout",
     "output_type": "stream",
     "text": [
      "False\n"
     ]
    }
   ],
   "source": [
    "print(False)"
   ]
  },
  {
   "cell_type": "code",
   "execution_count": 50,
   "metadata": {},
   "outputs": [
    {
     "name": "stdout",
     "output_type": "stream",
     "text": [
      "True\n"
     ]
    }
   ],
   "source": [
    "tlist = [1, 2, '3']\n",
    "print(1 in tlist)"
   ]
  },
  {
   "cell_type": "code",
   "execution_count": 51,
   "metadata": {},
   "outputs": [
    {
     "name": "stdout",
     "output_type": "stream",
     "text": [
      "False\n"
     ]
    }
   ],
   "source": [
    "print(3 in tlist)"
   ]
  },
  {
   "cell_type": "code",
   "execution_count": 52,
   "metadata": {},
   "outputs": [
    {
     "name": "stdout",
     "output_type": "stream",
     "text": [
      "True\n"
     ]
    }
   ],
   "source": [
    "print('3' in tlist)"
   ]
  },
  {
   "cell_type": "code",
   "execution_count": 56,
   "metadata": {},
   "outputs": [],
   "source": [
    "tlist = []\n",
    "for i in range(1, 10):\n",
    "    tlist.append(str(i)+'번째 입니다')"
   ]
  },
  {
   "cell_type": "code",
   "execution_count": 57,
   "metadata": {},
   "outputs": [
    {
     "name": "stdout",
     "output_type": "stream",
     "text": [
      "['1번째 입니다', '2번째 입니다', '3번째 입니다', '4번째 입니다', '5번째 입니다', '6번째 입니다', '7번째 입니다', '8번째 입니다', '9번째 입니다']\n"
     ]
    }
   ],
   "source": [
    "print(tlist)"
   ]
  },
  {
   "cell_type": "code",
   "execution_count": 58,
   "metadata": {},
   "outputs": [
    {
     "name": "stdout",
     "output_type": "stream",
     "text": [
      "9\n"
     ]
    }
   ],
   "source": [
    "print(len(tlist))"
   ]
  },
  {
   "cell_type": "code",
   "execution_count": 59,
   "metadata": {},
   "outputs": [
    {
     "name": "stdout",
     "output_type": "stream",
     "text": [
      "0번째 문장은:1번째 입니다\n",
      "1번째 문장은:2번째 입니다\n",
      "2번째 문장은:3번째 입니다\n",
      "3번째 문장은:4번째 입니다\n",
      "4번째 문장은:5번째 입니다\n",
      "5번째 문장은:6번째 입니다\n",
      "6번째 문장은:7번째 입니다\n",
      "7번째 문장은:8번째 입니다\n",
      "8번째 문장은:9번째 입니다\n"
     ]
    }
   ],
   "source": [
    "for i, k in enumerate(tlist):\n",
    "    print(str(i)+\"번째 문장은:\"+k)"
   ]
  },
  {
   "cell_type": "code",
   "execution_count": 62,
   "metadata": {},
   "outputs": [],
   "source": [
    "tlist = [i for i in range(3,20)]"
   ]
  },
  {
   "cell_type": "code",
   "execution_count": 63,
   "metadata": {},
   "outputs": [
    {
     "name": "stdout",
     "output_type": "stream",
     "text": [
      "[3, 4, 5, 6, 7, 8, 9, 10, 11, 12, 13, 14, 15, 16, 17, 18, 19]\n"
     ]
    }
   ],
   "source": [
    "print(tlist)"
   ]
  },
  {
   "cell_type": "code",
   "execution_count": 64,
   "metadata": {},
   "outputs": [
    {
     "name": "stdout",
     "output_type": "stream",
     "text": [
      "Error\n"
     ]
    }
   ],
   "source": [
    "try:\n",
    "    print(fdf)\n",
    "except:\n",
    "    print(\"Error\")"
   ]
  },
  {
   "cell_type": "code",
   "execution_count": 65,
   "metadata": {},
   "outputs": [
    {
     "name": "stdout",
     "output_type": "stream",
     "text": [
      "name 'fdf' is not defined\n"
     ]
    }
   ],
   "source": [
    "try:\n",
    "    print(fdf)\n",
    "except Exception as e:\n",
    "    print(e)        "
   ]
  },
  {
   "cell_type": "code",
   "execution_count": 67,
   "metadata": {},
   "outputs": [
    {
     "name": "stdout",
     "output_type": "stream",
     "text": [
      "This is function\n",
      "This is function\n"
     ]
    }
   ],
   "source": [
    "def func():\n",
    "    print(\"This is function\")\n",
    "func()\n",
    "\n",
    "func()"
   ]
  },
  {
   "cell_type": "code",
   "execution_count": 68,
   "metadata": {},
   "outputs": [
    {
     "name": "stdout",
     "output_type": "stream",
     "text": [
      "(7, 12)\n"
     ]
    }
   ],
   "source": [
    "def tfunc(a, b):\n",
    "    return a+b, a*b\n",
    "\n",
    "print(tfunc(3,4))"
   ]
  },
  {
   "cell_type": "code",
   "execution_count": 69,
   "metadata": {},
   "outputs": [
    {
     "name": "stdout",
     "output_type": "stream",
     "text": [
      "7 12\n"
     ]
    }
   ],
   "source": [
    "a, b = tfunc(3, 4)\n",
    "print(a, b)"
   ]
  },
  {
   "cell_type": "code",
   "execution_count": 70,
   "metadata": {},
   "outputs": [],
   "source": [
    "_, a = tfunc(3, 3)"
   ]
  },
  {
   "cell_type": "code",
   "execution_count": 71,
   "metadata": {},
   "outputs": [
    {
     "name": "stdout",
     "output_type": "stream",
     "text": [
      "9\n"
     ]
    }
   ],
   "source": [
    "print(a)"
   ]
  },
  {
   "cell_type": "code",
   "execution_count": 72,
   "metadata": {},
   "outputs": [
    {
     "name": "stdout",
     "output_type": "stream",
     "text": [
      "my name is \n",
      "choi\n",
      "jae\n",
      "min\n"
     ]
    }
   ],
   "source": [
    "a = \"\"\"my name is \n",
    "choi\n",
    "jae\n",
    "min\"\"\"\n",
    "print(a)"
   ]
  },
  {
   "cell_type": "code",
   "execution_count": 77,
   "metadata": {},
   "outputs": [
    {
     "name": "stdout",
     "output_type": "stream",
     "text": [
      "my name isJaeMin\n"
     ]
    }
   ],
   "source": [
    "a = \"my name is\" \\\n",
    "\"Jae\" \\\n",
    "\"Min\"\n",
    "\n",
    "print(a)"
   ]
  },
  {
   "cell_type": "markdown",
   "metadata": {},
   "source": []
  },
  {
   "cell_type": "code",
   "execution_count": 78,
   "metadata": {},
   "outputs": [
    {
     "name": "stdout",
     "output_type": "stream",
     "text": [
      "54\n"
     ]
    }
   ],
   "source": [
    "import random\n",
    "print(random.randint(1, 100))"
   ]
  },
  {
   "cell_type": "code",
   "execution_count": 80,
   "metadata": {},
   "outputs": [
    {
     "name": "stdout",
     "output_type": "stream",
     "text": [
      "(3, (667251083, 683036, 510117713, 2011467533, 4115989248, 89826311, 2967156494, 1389759342, 1906671694, 3928686824, 4005116044, 257204648, 839979003, 3262519496, 3969416029, 1829824572, 897489645, 54907598, 2523754233, 2300685369, 887204862, 33700179, 1538544675, 3767943231, 218904223, 1929072738, 708392316, 2777500299, 1465001662, 2178018801, 3880074187, 1803055825, 3975877079, 2728910708, 633525200, 668717791, 3853186072, 3133436297, 4024834188, 726772917, 2286169992, 1858635983, 4160333465, 235763880, 1260099568, 135455816, 769382962, 3109052590, 2454349802, 4165316383, 2845673187, 515424551, 1011382662, 1320183906, 1168317975, 3577431352, 2009019070, 1051567548, 3682269526, 1625909394, 3435096690, 1779880727, 3640898310, 455999537, 3590733726, 3992419187, 3575566597, 631028742, 1720079600, 2384973418, 3866158691, 1482366986, 3130573895, 3660196509, 2230720947, 3825706349, 2776819357, 4005279190, 2125773152, 3822652062, 3120493759, 1832428304, 2761234055, 1423158035, 3738805009, 3479977700, 4144108497, 220675352, 31659234, 3745993836, 586047489, 2810565911, 4036142433, 1021898897, 3549239778, 1545083529, 3116846050, 744228726, 357691850, 1315116526, 4261327001, 2544642353, 1442487894, 1773617925, 1894487027, 1988827197, 2624585139, 2566171783, 1042344644, 3676457428, 208337235, 453106567, 1597162887, 2910252111, 191820928, 3647566802, 4107288104, 4166105674, 530801183, 2945004631, 1591159279, 2383952505, 2822050909, 1638915237, 1387448024, 3215301092, 2960388731, 2093706145, 2857197903, 341337249, 3459778410, 4277793436, 342027764, 2304521729, 3362041299, 619729415, 2932831777, 1704486084, 4225674265, 1789276802, 2021566998, 2708797329, 3953176426, 2403479146, 1218922649, 2253386416, 3130335822, 946649981, 4247747729, 2369858788, 1495216191, 1515469717, 3811667480, 2250237821, 69620284, 621951312, 480120763, 695342697, 118280496, 185114150, 1705065157, 1867121109, 2923362151, 1218880665, 1488034874, 2899957632, 2175938027, 451670405, 2531526092, 2642832158, 2175803622, 1359658655, 1391345117, 1683279475, 1285793732, 1467161506, 3179905139, 2632752222, 1303332535, 3862539330, 645250979, 1473829400, 310448030, 1556346609, 1287105892, 926169901, 3256357146, 3435534601, 2651515596, 3388380719, 458709492, 1348433130, 2885023652, 1472402034, 674771643, 3544919399, 2845506566, 1792255893, 1369768498, 3367005469, 3421949450, 3602599149, 349936791, 3341586782, 735149221, 4111678283, 2328465126, 287863515, 214074719, 2588154643, 3391000942, 1969680972, 955664637, 3624830434, 3886096365, 1913134056, 2630154940, 2543234386, 4133223226, 2035898480, 3779706486, 3348259723, 113808814, 1705885273, 4291385439, 3837233372, 3830952117, 3364374817, 1210567248, 1287013564, 3821111656, 3646246661, 963693774, 1307519846, 969384940, 3402735072, 1586178370, 1875209000, 1741178956, 1076730986, 4142916427, 1124866280, 971708727, 3933217270, 2955281234, 373971058, 3240794752, 1671610375, 1684950573, 179244310, 3543676635, 2508461712, 2944590201, 420495106, 176175197, 3044445206, 96769792, 3035828968, 50566354, 2776622221, 1915067003, 1891320061, 4214502295, 1448601084, 3060568948, 3655232395, 4101783462, 4288067210, 2265034554, 3140926872, 560900018, 2363213860, 1288010618, 2875195, 3708634711, 1918886893, 584486667, 3669664660, 4135458238, 2208485519, 3322600376, 3224662912, 2642836914, 86457926, 2332759141, 1457698795, 4106248633, 242315985, 3009803741, 193745587, 3519968100, 559800179, 2711881351, 1316549537, 4040957435, 2872918076, 2511266213, 1672436429, 3750468768, 3720769268, 4200136423, 121579061, 714992457, 1504733921, 2384228955, 4199713978, 1333297398, 1848423952, 698958924, 343102659, 228520240, 1839493928, 2771293771, 1071562057, 950682759, 4255988588, 3620960220, 1268031547, 2972898354, 3838772051, 855330099, 1889868020, 1030677183, 4260485469, 1787474774, 2714986580, 1132281619, 2262997419, 936083008, 3261774724, 1892748380, 3089351918, 3052653500, 510052415, 1515529634, 1665668716, 3445636683, 4223482083, 79988101, 2794719283, 1982757573, 2744985423, 3027915545, 499489719, 1910192347, 2585489325, 2069831933, 1567019737, 4142898483, 1515933447, 3958509489, 2304868857, 1586199496, 2456602850, 3553655795, 1441182781, 768321177, 2670213983, 1649845063, 1241223495, 123088107, 172846582, 1679716189, 439931106, 1086646873, 1066875493, 385952271, 182016497, 1922564347, 3481479518, 3694860039, 55191100, 2074460348, 1967783722, 1195654639, 3091986730, 269894860, 3672004333, 461682260, 1743031849, 490938148, 2112131803, 4012008732, 36566738, 1212796846, 1449002228, 1498375291, 1181662984, 4239890961, 2127949946, 895739796, 711883070, 2969768667, 3207229985, 3655962600, 603280649, 2788639015, 1545496804, 508016813, 1964247889, 2039220276, 810364707, 2016108690, 178511337, 979307012, 2089331570, 72437889, 372260790, 69032620, 1341672117, 3476520887, 441322266, 2960642986, 1308230582, 892608647, 3471811846, 1261803641, 1882077606, 2527607588, 971307854, 78916445, 1667912960, 1830295537, 1069070347, 3992327114, 1336818858, 2138090581, 4280104643, 1345254534, 3716798383, 2744791341, 814283215, 850800234, 3373298197, 3923757907, 4257862889, 3999650404, 214494170, 3524945837, 4002373780, 1026412037, 2373303354, 114918345, 3549132903, 3705970881, 3630391100, 1612569862, 3231733477, 4251209142, 1561953181, 1034041676, 2951167159, 3511535117, 1987254479, 3251157921, 3095711510, 842750378, 1582281517, 2711711413, 2602074133, 2768053521, 3932596936, 1356329964, 4285057621, 2240828750, 1313032206, 3434124570, 2853713687, 4184447821, 620739690, 3409351456, 1570751517, 2799041807, 594236327, 274365702, 4013369018, 152640312, 3705332021, 1973221585, 4225997748, 263138435, 2835381874, 3807739222, 636213781, 3900018512, 1246921884, 2839864160, 595592867, 981029884, 2446311681, 3811560794, 196581310, 2567843684, 1883207261, 3119209057, 1466617543, 2598597935, 3013400846, 3833908108, 1769068576, 278876592, 1350507577, 196038434, 1443714351, 2210680053, 1477054218, 2545332134, 400594822, 1414595798, 2005792242, 1935690669, 2201067558, 3801473598, 4127879453, 2834755634, 4128269887, 294964098, 2044609608, 653325301, 553177718, 1608101132, 2572809413, 53362958, 2295300131, 2256114312, 3122541694, 3334629693, 1667777253, 1188923477, 67560671, 3319272932, 662598762, 2253155869, 3727912506, 2672276094, 775364213, 2657778110, 1828752578, 1468983940, 3986224994, 2945103877, 3483588312, 3667740710, 2768357333, 2530389674, 1380970665, 3657398314, 1333976874, 2763045052, 2126984821, 700824958, 870378356, 3396275739, 734878706, 3558227020, 2203430927, 2349968974, 439946187, 3801542268, 414114679, 2040118543, 383135356, 2006001506, 2260219435, 122898840, 3410850982, 3325106883, 917149281, 1031574921, 4010511719, 1666318327, 1194929717, 3952941133, 1799004136, 2133788797, 2969701674, 695411005, 3592427659, 1085472623, 990397975, 2414969577, 424474393, 3001661547, 2573638245, 1787697183, 632216379, 1159686686, 2011359255, 1496914895, 2290994126, 2907897650, 117472315, 2259681616, 4272461344, 3292004606, 833675705, 2514514721, 3210484553, 3770160104, 2424955072, 552725220, 168085887, 1966738887, 1761032067, 1862592326, 607243648, 2499453422, 1107198980, 3123022895, 2158121283, 4050216683, 3273058524, 2776266994, 3475749140, 2692616609, 310997800, 1398654336, 3642010596, 2792134249, 2020468082, 2101030444, 2624066811, 3670134067, 1826441533, 1), None)\n"
     ]
    }
   ],
   "source": [
    "print(random.getstate())"
   ]
  },
  {
   "cell_type": "code",
   "execution_count": 81,
   "metadata": {},
   "outputs": [
    {
     "name": "stdout",
     "output_type": "stream",
     "text": [
      "18\n"
     ]
    }
   ],
   "source": [
    "import random as rd\n",
    "print(rd.randint(1, 100))"
   ]
  },
  {
   "cell_type": "code",
   "execution_count": 91,
   "metadata": {},
   "outputs": [
    {
     "name": "stdout",
     "output_type": "stream",
     "text": [
      "smaller\n",
      "Wrong input, try again\n",
      "Wrong input, try again\n",
      "Wrong input, try again\n",
      "Wrong input, try again\n",
      "Wrong input, try again\n",
      "Wrong input, try again\n",
      "smaller\n",
      "9번째에 맞추셨습니다\n"
     ]
    }
   ],
   "source": [
    "#1~100 입력 후 맞추는 프로그램. 몇 번 만에 맞췄는지 출력해준다. \n",
    "rnum = random.randint(1, 10)\n",
    "trynum = 0\n",
    "while True:\n",
    "    try:\n",
    "        inum = int(input(\"Type number between 1 to 100\"))\n",
    "        trynum += 1\n",
    "        if inum == rnum:\n",
    "            print(f\"{trynum}번째에 맞추셨습니다\")\n",
    "            break;\n",
    "        elif rnum > inum:\n",
    "            print(\"더 큽니다\")\n",
    "        else:\n",
    "            print(\"smaller\")\n",
    "    except:\n",
    "        print(\"Wrong input, try again\")"
   ]
  },
  {
   "cell_type": "code",
   "execution_count": 93,
   "metadata": {},
   "outputs": [
    {
     "name": "stdout",
     "output_type": "stream",
     "text": [
      "192.168.0.65\n"
     ]
    }
   ],
   "source": [
    "import socket\n",
    "in_addr = socket.gethostbyname(socket.gethostname())\n",
    "print(in_addr)"
   ]
  },
  {
   "cell_type": "code",
   "execution_count": 97,
   "metadata": {},
   "outputs": [
    {
     "name": "stdout",
     "output_type": "stream",
     "text": [
      "('192.168.0.65', 57794)\n"
     ]
    }
   ],
   "source": [
    "in_addr = socket.socket(socket.AF_INET, socket.SOCK_STREAM)\n",
    "in_addr.connect((\"www.google.co.kr\", 443))\n",
    "print(in_addr.getsockname())"
   ]
  },
  {
   "cell_type": "code",
   "execution_count": 103,
   "metadata": {},
   "outputs": [
    {
     "name": "stdout",
     "output_type": "stream",
     "text": [
      "121.167.166.77\n"
     ]
    }
   ],
   "source": [
    "import requests\n",
    "import re\n",
    "\n",
    "req = requests.get(\"http://ipconfig.kr\")\n",
    "# print(req.text)\n",
    "out_addr = re.search(r'IP Address : (\\d{1,3}\\.\\d{1,3}\\.\\d{1,3}\\.\\d{1,3})', req.text)[1]\n",
    "print(out_addr)"
   ]
  },
  {
   "cell_type": "code",
   "execution_count": 116,
   "metadata": {},
   "outputs": [
    {
     "name": "stdout",
     "output_type": "stream",
     "text": [
      "<re.Match object; span=(0, 11), match='aaa@xxx.com'>\n",
      "xxx\n",
      "(0, 11)\n",
      "aaa@xxx.com\n",
      "('aaa', 'xxx')\n",
      "Hello, Hello, ccc@zzz.net\n"
     ]
    }
   ],
   "source": [
    "s = 'aaa@xxx.com, bbb@yyy.com, ccc@zzz.net'\n",
    "\n",
    "e = re.search(r'([a-z]+)@([a-z]+)\\.com', s)\n",
    "print(e)\n",
    "print(e[2])\n",
    "print(e.span())\n",
    "print(e.group())\n",
    "print(e.groups())\n",
    "e = re.sub(r'([a-z]+)@([a-z]+)\\.com', 'Hello', s)\n",
    "print(e)"
   ]
  },
  {
   "cell_type": "code",
   "execution_count": 122,
   "metadata": {},
   "outputs": [
    {
     "name": "stdout",
     "output_type": "stream",
     "text": [
      "Internal IP addr: 192.168.0.65\n",
      "121.167.166.77\n"
     ]
    }
   ],
   "source": [
    "import socket\n",
    "import requests\n",
    "import re\n",
    "\n",
    "in_addr = socket.socket(socket.AF_INET, socket.SOCK_STREAM)\n",
    "in_addr.connect((\"www.google.co.kr\", 443))\n",
    "print(f\"Internal IP addr: {in_addr.getsockname()[0]}\")\n",
    "\n",
    "req = requests.get(\"http://ipconfig.kr\")\n",
    "out_addr = re.search(r'IP Address : (\\d{1,3}\\.\\d{1,3}\\.\\d{1,3}\\.\\d{1,3})', req.text).groups()[0]\n",
    "print(out_addr)"
   ]
  },
  {
   "cell_type": "code",
   "execution_count": 108,
   "metadata": {},
   "outputs": [
    {
     "ename": "AttributeError",
     "evalue": "'str' object has no attribute 'group'",
     "output_type": "error",
     "traceback": [
      "\u001b[1;31m---------------------------------------------------------------------------\u001b[0m",
      "\u001b[1;31mAttributeError\u001b[0m                            Traceback (most recent call last)",
      "Cell \u001b[1;32mIn[108], line 1\u001b[0m\n\u001b[1;32m----> 1\u001b[0m \u001b[39mprint\u001b[39m(e\u001b[39m.\u001b[39;49mgroup())\n",
      "\u001b[1;31mAttributeError\u001b[0m: 'str' object has no attribute 'group'"
     ]
    }
   ],
   "source": [
    "print(e.group())"
   ]
  }
 ],
 "metadata": {
  "kernelspec": {
   "display_name": "py38_32",
   "language": "python",
   "name": "python3"
  },
  "language_info": {
   "codemirror_mode": {
    "name": "ipython",
    "version": 3
   },
   "file_extension": ".py",
   "mimetype": "text/x-python",
   "name": "python",
   "nbconvert_exporter": "python",
   "pygments_lexer": "ipython3",
   "version": "3.8.16"
  },
  "orig_nbformat": 4,
  "vscode": {
   "interpreter": {
    "hash": "cc500f9595c7036f5ab22c6000946e7ffae682aa3474b8d6dff2f35e682ba884"
   }
  }
 },
 "nbformat": 4,
 "nbformat_minor": 2
}
