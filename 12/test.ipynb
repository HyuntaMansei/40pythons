{
 "cells": [
  {
   "cell_type": "code",
   "execution_count": 7,
   "metadata": {},
   "outputs": [],
   "source": [
    "import configparser\n",
    "from colorama import Style\n",
    "import docx\n",
    "from docx.oxml.ns import qn\n",
    "from docx.enum.text import WD_PARAGRAPH_ALIGNMENT\n",
    "\n",
    "conf = configparser.ConfigParser()\n",
    "conf.read('conf.ini')\n",
    "\n",
    "conf_default = conf['DEFAULT']\n",
    "\n",
    "doc = docx.Document(conf_default['wfile'])\n",
    "style = doc.styles['Normal']"
   ]
  },
  {
   "cell_type": "code",
   "execution_count": 8,
   "metadata": {},
   "outputs": [],
   "source": [
    "style.font.size = docx.shared.Pt(12)"
   ]
  }
 ],
 "metadata": {
  "kernelspec": {
   "display_name": "Python 3",
   "language": "python",
   "name": "python3"
  },
  "language_info": {
   "codemirror_mode": {
    "name": "ipython",
    "version": 3
   },
   "file_extension": ".py",
   "mimetype": "text/x-python",
   "name": "python",
   "nbconvert_exporter": "python",
   "pygments_lexer": "ipython3",
   "version": "3.8.13"
  },
  "orig_nbformat": 4,
  "vscode": {
   "interpreter": {
    "hash": "930972ee892816caf64247a5e52b14447bba1810eb2f811ba6b6034d16dec76c"
   }
  }
 },
 "nbformat": 4,
 "nbformat_minor": 2
}
