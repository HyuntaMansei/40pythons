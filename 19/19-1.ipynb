{
 "cells": [
  {
   "cell_type": "code",
   "execution_count": null,
   "metadata": {},
   "outputs": [],
   "source": [
    "from IPython.core.interactiveshell import InteractiveShell\n",
    "InteractiveShell.ast_node_interactivity = 'all'\n",
    "\n",
    "from cProfile import run\n",
    "from webdriver_manager.chrome import ChromeDriverManager\n",
    "from selenium import webdriver\n",
    "\n",
    "driver = webdriver.Chrome(ChromeDriverManager().install())\n",
    "\n",
    "url = 'https://www.google.co.kr/imghp'\n",
    "driver.get(url=url)\n",
    "\n",
    "driver.implicitly_wait(time_to_wait=10)"
   ]
  },
  {
   "cell_type": "code",
   "execution_count": null,
   "metadata": {},
   "outputs": [],
   "source": [
    "from selenium.webdriver.common.keys import Keys\n",
    "from selenium.webdriver.common.by import By\n",
    "\n",
    "my_css_selector = 'body > div.L3eUgb > div.o3j99.ikrT4e.om7nvf > form > div:nth-child(1) > div.A8SBwf > div.RNNXgb > div > div.a4bIc > input'\n",
    "my_element = driver.find_element(By.CSS_SELECTOR, my_css_selector)\n",
    "\n",
    "my_element.send_keys(\"바다\")\n",
    "my_element.send_keys(Keys.RETURN)"
   ]
  },
  {
   "cell_type": "code",
   "execution_count": null,
   "metadata": {},
   "outputs": [],
   "source": [
    "import time\n",
    "my_element = driver.find_element(By.TAG_NAME, 'body')\n",
    "for i in range(60):\n",
    "    my_element.send_keys(Keys.PAGE_DOWN)\n",
    "    time.sleep(0.1)\n",
    "    "
   ]
  },
  {
   "cell_type": "code",
   "execution_count": null,
   "metadata": {},
   "outputs": [],
   "source": [
    "my_css_selector = '#islmp > div > div > div > div > div.gBPM8 > div.qvfT1 > div.YstHxe > input'\n",
    "try:\n",
    "    driver.find_element(By.CSS_SELECTOR, my_css_selector).click()\n",
    "    \n",
    "    for i in range(60):\n",
    "        my_element.send_keys(Keys.PAGE_DOWN)\n",
    "        time.sleep(0.1)\n",
    "except:\n",
    "    pass\n",
    "    "
   ]
  },
  {
   "cell_type": "code",
   "execution_count": null,
   "metadata": {},
   "outputs": [],
   "source": [
    "from os import link\n",
    "from tkinter.messagebox import NO\n",
    "\n",
    "\n",
    "images_css_selector = '#islrg > div.islrc > div > a.wXeWr.islib.nfEiy > div.bRMDJf.islir > img'\n",
    "links = []\n",
    "images = driver.find_elements(By.CSS_SELECTOR, images_css_selector)\n",
    "for image in images:\n",
    "    if image.get_attribute('src') is not None:\n",
    "        links.append(image.get_attribute('src'))\n",
    "\n",
    "print(f'찾은 이미지는 총 {len(links)}')"
   ]
  },
  {
   "cell_type": "code",
   "execution_count": null,
   "metadata": {},
   "outputs": [],
   "source": [
    "import urllib.request\n",
    "import os\n",
    "\n",
    "# os.chdir(os.path.dirname(os.path.abspath(__file__)))\n",
    "\n",
    "print(os.getcwd())\n",
    "\n",
    "for i, url in enumerate(links):\n",
    "    w_file_dir = str(os.getcwd()) + '\\\\download\\\\' + str(i) + '.png'\n",
    "    urllib.request.urlretrieve(url, w_file_dir)\n",
    "\n",
    "print(\"All pictures downloaded\")"
   ]
  },
  {
   "cell_type": "code",
   "execution_count": null,
   "metadata": {},
   "outputs": [],
   "source": []
  }
 ],
 "metadata": {
  "kernelspec": {
   "display_name": "py38_32",
   "language": "python",
   "name": "python3"
  },
  "language_info": {
   "codemirror_mode": {
    "name": "ipython",
    "version": 3
   },
   "file_extension": ".py",
   "mimetype": "text/x-python",
   "name": "python",
   "nbconvert_exporter": "python",
   "pygments_lexer": "ipython3",
   "version": "3.8.13"
  },
  "orig_nbformat": 4,
  "vscode": {
   "interpreter": {
    "hash": "930972ee892816caf64247a5e52b14447bba1810eb2f811ba6b6034d16dec76c"
   }
  }
 },
 "nbformat": 4,
 "nbformat_minor": 2
}
