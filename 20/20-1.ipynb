{
 "cells": [
  {
   "cell_type": "code",
   "execution_count": 1,
   "metadata": {},
   "outputs": [
    {
     "name": "stderr",
     "output_type": "stream",
     "text": [
      "C:\\Users\\jchoi\\AppData\\Local\\Temp\\ipykernel_24548\\1968759565.py:4: DeprecationWarning: executable_path has been deprecated, please pass in a Service object\n",
      "  driver = webdriver.Chrome(ChromeDriverManager().install())\n"
     ]
    }
   ],
   "source": [
    "from webdriver_manager.chrome import ChromeDriverManager\n",
    "from selenium import webdriver\n",
    "\n",
    "driver = webdriver.Chrome(ChromeDriverManager().install())\n",
    "\n",
    "url = 'https://www.google.com'\n",
    "driver.get(url=url)\n",
    "driver.implicitly_wait(10)"
   ]
  },
  {
   "cell_type": "code",
   "execution_count": 2,
   "metadata": {},
   "outputs": [
    {
     "name": "stdout",
     "output_type": "stream",
     "text": [
      "#app > div > main > div > section > div > section > section > div > div > div > div > a > span.rank-text\n",
      "동성 동성부부 피부양자\n",
      "환노위 퇴장 與\n",
      "이재명 민주당 대표\n",
      "유아인\n",
      "천하람\n",
      "손흥민\n",
      "부모 형제로 박수홍을\n",
      "한동훈\n",
      "송중기\n",
      "이찬종\n"
     ]
    }
   ],
   "source": [
    "from selenium.webdriver.common.by import By as by\n",
    "import re\n",
    "\n",
    "my_url = 'https://signal.bz/news'\n",
    "driver.get(url=my_url)\n",
    "\n",
    "my_selector = '#app > div > main > div > section > div > section > section:nth-child(2) > div:nth-child(2) > div > div:nth-child(2) > div:nth-child(5) > a > span.rank-text'\n",
    "my_selector = re.sub(r':nth-child\\([0-9]\\)' ,'',my_selector)\n",
    "results = driver.find_elements(by.CSS_SELECTOR, my_selector)\n",
    "print(my_selector)\n",
    "\n",
    "r_search_list = []\n",
    "for result in results:\n",
    "    print(result.text)\n",
    "    r_search_list.append(result.text)    "
   ]
  },
  {
   "cell_type": "code",
   "execution_count": 8,
   "metadata": {},
   "outputs": [],
   "source": [
    "import time\n",
    "\n",
    "nate_url = 'https://www.nate.com'\n",
    "driver.get(url=nate_url)\n",
    "driver.implicitly_wait(time_to_wait=5)"
   ]
  },
  {
   "cell_type": "code",
   "execution_count": 9,
   "metadata": {},
   "outputs": [
    {
     "name": "stdout",
     "output_type": "stream",
     "text": [
      "#search-option > form > fieldset > div.issue-kwd > span > a\n",
      "<selenium.webdriver.remote.webelement.WebElement (session=\"856950aec4b37c09f2e9cbdd47e36ff6\", element=\"6e3e2866-c37d-4c45-bbaf-9297a4c2f71f\")>\n",
      "<selenium.webdriver.remote.webelement.WebElement (session=\"856950aec4b37c09f2e9cbdd47e36ff6\", element=\"429d5ae7-e179-44a1-a645-670482f4ae50\")>\n",
      "<selenium.webdriver.remote.webelement.WebElement (session=\"856950aec4b37c09f2e9cbdd47e36ff6\", element=\"a50637aa-8a9d-4992-8f1b-10d4f5eb5290\")>\n",
      "<selenium.webdriver.remote.webelement.WebElement (session=\"856950aec4b37c09f2e9cbdd47e36ff6\", element=\"8791d5ff-3cc4-4164-80a3-493bdebc4b5b\")>\n",
      "<selenium.webdriver.remote.webelement.WebElement (session=\"856950aec4b37c09f2e9cbdd47e36ff6\", element=\"2d84ec6b-1452-4d55-96c4-91938f083796\")>\n",
      "<selenium.webdriver.remote.webelement.WebElement (session=\"856950aec4b37c09f2e9cbdd47e36ff6\", element=\"cc8ae3a5-f03e-4b9c-9eb1-c0221296919b\")>\n",
      "<selenium.webdriver.remote.webelement.WebElement (session=\"856950aec4b37c09f2e9cbdd47e36ff6\", element=\"3ee25fb7-97f4-45a8-94eb-b8568d5f1491\")>\n",
      "<selenium.webdriver.remote.webelement.WebElement (session=\"856950aec4b37c09f2e9cbdd47e36ff6\", element=\"cb66eced-9f35-4d9f-9a10-baac3b7291dc\")>\n",
      "<selenium.webdriver.remote.webelement.WebElement (session=\"856950aec4b37c09f2e9cbdd47e36ff6\", element=\"5cddb8a4-aa6e-4c73-96b4-28627d604a87\")>\n",
      "<selenium.webdriver.remote.webelement.WebElement (session=\"856950aec4b37c09f2e9cbdd47e36ff6\", element=\"3659e48c-0b80-41d0-aee5-9eea3bbbd8b1\")>\n"
     ]
    }
   ],
   "source": [
    "nate_selector = 'li > a > span.txt_rank'\n",
    "driver.find_element(by.CSS_SELECTOR, nate_selector).click()\n",
    "\n",
    "nate_real_list = []\n",
    "driver.implicitly_wait(time_to_wait=2)\n",
    "\n",
    "nate_2nd_selector = '#search-option > form:nth-child(1) > fieldset > div.issue-kwd > span > a:nth-child(1)'\n",
    "nate_2nd_selector = re.sub(r'\\:nth[\\(\\-\\s\\w]*\\)', '', nate_2nd_selector)\n",
    "print(nate_2nd_selector)\n",
    "\n",
    "results = nate_step2_results = driver.find_elements(by.CSS_SELECTOR, nate_2nd_selector)\n",
    "\n",
    "for r in results:\n",
    "    nate_real_list.append(r.text)\n",
    "    print(r.text)"
   ]
  },
  {
   "cell_type": "code",
   "execution_count": 20,
   "metadata": {},
   "outputs": [
    {
     "name": "stdout",
     "output_type": "stream",
     "text": [
      "#issue_wrap > ul > li > div > a > span.txt\n",
      "유아인\n",
      "유아인\n",
      "이찬종\n",
      "이찬종\n",
      "일타스캔들\n",
      "일타스캔들\n",
      "송중기\n",
      "송중기\n",
      "이승기\n",
      "이승기\n",
      "이재명\n",
      "이재명\n",
      "최수호\n",
      "최수호\n",
      "손흥민\n",
      "손흥민\n",
      "스마트폰을 떨어뜨렸을 뿐인데\n",
      "스마트폰을 떨어뜨렸을 뿐인데\n",
      "최자\n",
      "최자\n"
     ]
    }
   ],
   "source": [
    "from lib2to3.pgen2.token import RPAR\n",
    "\n",
    "\n",
    "zum_url = 'https://zum.com/'\n",
    "driver.get(url=zum_url)\n",
    "\n",
    "zum_sel1 = '#search-input'\n",
    "driver.find_element(by.CSS_SELECTOR, zum_sel1).send_keys('이재명\\n')\n",
    "driver.implicitly_wait(10)\n",
    "\n",
    "zum_sel2 = '#issue_wrap > ul:nth-child(1) > li:nth-child(1) > div > a:nth-child(1) > span.txt'\n",
    "zum_sel2 = re.sub(r':[^\\)]*\\)', \"\", zum_sel2)\n",
    "print(zum_sel2)\n",
    "zum_results = driver.find_elements(by.CSS_SELECTOR, zum_sel2)\n",
    "\n",
    "zum_search_list = []\n",
    "for r in zum_results:\n",
    "    zum_search_list.append(r.text)\n",
    "    print(r.text)"
   ]
  }
 ],
 "metadata": {
  "kernelspec": {
   "display_name": "py38_32",
   "language": "python",
   "name": "python3"
  },
  "language_info": {
   "codemirror_mode": {
    "name": "ipython",
    "version": 3
   },
   "file_extension": ".py",
   "mimetype": "text/x-python",
   "name": "python",
   "nbconvert_exporter": "python",
   "pygments_lexer": "ipython3",
   "version": "3.8.13"
  },
  "orig_nbformat": 4,
  "vscode": {
   "interpreter": {
    "hash": "930972ee892816caf64247a5e52b14447bba1810eb2f811ba6b6034d16dec76c"
   }
  }
 },
 "nbformat": 4,
 "nbformat_minor": 2
}
